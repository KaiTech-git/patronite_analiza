{
 "cells": [
  {
   "cell_type": "code",
   "execution_count": null,
   "metadata": {},
   "outputs": [],
   "source": [
    "import pandas as pd\n",
    "import numpy as np\n",
    "import seaborn as sns\n",
    "import matplotlib.pyplot as plt\n",
    "import matplotlib as mpl\n",
    "import datetime\n",
    "from collections import Counter"
   ]
  },
  {
   "cell_type": "code",
   "execution_count": null,
   "metadata": {},
   "outputs": [],
   "source": [
    "mpl.style.use(['ggplot'])"
   ]
  },
  {
   "cell_type": "code",
   "execution_count": null,
   "metadata": {},
   "outputs": [],
   "source": [
    "df = pd.read_pickle(\"data/new_all.pkl\")"
   ]
  },
  {
   "cell_type": "code",
   "execution_count": null,
   "metadata": {},
   "outputs": [],
   "source": [
    "def how_long(y, m, d):\n",
    "    return (datetime.datetime.now() - datetime.datetime(y, m, d)).days"
   ]
  },
  {
   "cell_type": "code",
   "execution_count": null,
   "metadata": {},
   "outputs": [],
   "source": [
    "df[\"mean_donation\"] = df.dotations_per_month / df.patrons\n",
    "df.loc[df['patrons'] == 0, \"mean_donation\"] = np.NaN"
   ]
  },
  {
   "cell_type": "code",
   "execution_count": null,
   "metadata": {},
   "outputs": [],
   "source": [
    "df['profile_age_days'] = df.apply(lambda row: how_long(row['registration_year'], row['registration_month'], row['registration_day']), axis = 1)\n",
    "\n",
    "df['registration_date'] = df.apply(lambda row: pd.to_datetime(datetime.date(row['registration_year'],\n",
    "                                                                            row['registration_month'],\n",
    "                                                                            row['registration_day'])), axis=1)"
   ]
  },
  {
   "cell_type": "code",
   "execution_count": null,
   "metadata": {},
   "outputs": [],
   "source": [
    "df.head(10)"
   ]
  },
  {
   "cell_type": "code",
   "execution_count": null,
   "metadata": {},
   "outputs": [],
   "source": [
    "df_per_year = df.value_counts(\"registration_year\").reset_index()\n",
    "df_per_year.columns = ['registration_year', 'count']\n",
    "\n",
    "sns.barplot(data=df_per_year, x=\"registration_year\", y=\"count\")"
   ]
  },
  {
   "cell_type": "code",
   "execution_count": null,
   "metadata": {},
   "outputs": [],
   "source": [
    "df_2020_month = df.value_counts(['registration_year', \"registration_month\"]).reset_index()\n",
    "df_2020_month.columns = ['registration_year', 'registration_month', 'count']\n",
    "\n",
    "sns.barplot(data=df_2020_month, x=\"registration_month\", y=\"count\", hue='registration_year')"
   ]
  },
  {
   "cell_type": "code",
   "execution_count": null,
   "metadata": {},
   "outputs": [],
   "source": [
    "df.sort_values(\"patrons\", ascending=False).head(10)[['name', 'patrons']]"
   ]
  },
  {
   "cell_type": "code",
   "execution_count": null,
   "metadata": {},
   "outputs": [],
   "source": [
    "df['patrons'].describe()"
   ]
  },
  {
   "cell_type": "code",
   "execution_count": null,
   "metadata": {},
   "outputs": [],
   "source": [
    "sns.distplot(df['patrons'])"
   ]
  },
  {
   "cell_type": "code",
   "execution_count": null,
   "metadata": {},
   "outputs": [],
   "source": [
    "sns.distplot(df[df['patrons'].between(1, 20)]['patrons'], bins=20)"
   ]
  },
  {
   "cell_type": "code",
   "execution_count": null,
   "metadata": {},
   "outputs": [],
   "source": [
    "df[df['dotations_per_month'] != 0]['dotations_per_month'].describe()"
   ]
  },
  {
   "cell_type": "code",
   "execution_count": null,
   "metadata": {},
   "outputs": [],
   "source": [
    "sns.distplot(df[df[\"dotations_per_month\"] != 0][\"dotations_per_month\"], bins=100)\n",
    "# plt.xscale('log')"
   ]
  },
  {
   "cell_type": "code",
   "execution_count": null,
   "metadata": {},
   "outputs": [],
   "source": [
    "sns.distplot(df[df[\"dotations_per_month\"].between(1, 150)][\"dotations_per_month\"], bins=100)"
   ]
  },
  {
   "cell_type": "code",
   "execution_count": null,
   "metadata": {},
   "outputs": [],
   "source": [
    "df.sort_values(\"dotations_per_month\", ascending=False).head(10)[['name', 'dotations_per_month']]"
   ]
  },
  {
   "cell_type": "code",
   "execution_count": null,
   "metadata": {},
   "outputs": [],
   "source": [
    "df.sort_values(\"total_dotations\", ascending=False).head(10)[['name', 'total_dotations']]"
   ]
  },
  {
   "cell_type": "code",
   "execution_count": null,
   "metadata": {},
   "outputs": [],
   "source": [
    "df[df['total_dotations'] != 0]['total_dotations'].describe().astype(int)"
   ]
  },
  {
   "cell_type": "code",
   "execution_count": null,
   "metadata": {},
   "outputs": [],
   "source": [
    "df.sort_values('patrons', ascending=False).head(10)[['name', 'patrons']]"
   ]
  },
  {
   "cell_type": "code",
   "execution_count": null,
   "metadata": {},
   "outputs": [],
   "source": [
    "sns.distplot(df.mean_donation)"
   ]
  },
  {
   "cell_type": "code",
   "execution_count": null,
   "metadata": {},
   "outputs": [],
   "source": [
    "df[(df['mean_donation'] > 0) & ~pd.isna(df['mean_donation'])]['mean_donation'] .describe()"
   ]
  },
  {
   "cell_type": "code",
   "execution_count": null,
   "metadata": {},
   "outputs": [],
   "source": [
    "df[df.mean_donation >= 100].sort_values('mean_donation', ascending=False).head(10)[['name', 'mean_donation']]"
   ]
  },
  {
   "cell_type": "code",
   "execution_count": null,
   "metadata": {},
   "outputs": [],
   "source": [
    "sns.distplot(df[df[\"mean_donation\"] < 100][\"mean_donation\"], bins=50)"
   ]
  },
  {
   "cell_type": "code",
   "execution_count": null,
   "metadata": {},
   "outputs": [],
   "source": [
    "sns.pairplot(df)"
   ]
  },
  {
   "cell_type": "code",
   "execution_count": null,
   "metadata": {},
   "outputs": [],
   "source": [
    "sns.scatterplot(data=df[df.patrons < 500], x='patrons', y='dotations_per_month')"
   ]
  },
  {
   "cell_type": "code",
   "execution_count": null,
   "metadata": {},
   "outputs": [],
   "source": [
    "sns.scatterplot(data=df[df[\"dotations_per_month\"].between(1, 1000)], x='profile_age_days', y='dotations_per_month')"
   ]
  },
  {
   "cell_type": "code",
   "execution_count": null,
   "metadata": {},
   "outputs": [],
   "source": [
    "sns.scatterplot(data=df[df[\"total_dotations\"] <= 100000], x='profile_age_days', y='total_dotations')"
   ]
  },
  {
   "cell_type": "code",
   "execution_count": null,
   "metadata": {},
   "outputs": [],
   "source": [
    "sns.scatterplot(data=df[df['patrons'] < 150], x='profile_age_days', y='patrons')"
   ]
  },
  {
   "cell_type": "code",
   "execution_count": null,
   "metadata": {},
   "outputs": [],
   "source": [
    "sns.scatterplot(data=df[df['mean_donation'] < 150], x='profile_age_days', y='mean_donation')"
   ]
  },
  {
   "cell_type": "code",
   "execution_count": null,
   "metadata": {},
   "outputs": [],
   "source": [
    "# najpopularniejsze tagi\n",
    "df['tags_list'] = df['tags'].apply(lambda t: t.split(\"|\"))\n",
    "\n",
    "\n",
    "tag_list = [i for t in df['tags_list'] for i in t ]\n",
    "\n",
    "tag_list_coll = dict(Counter(tag_list))\n",
    "\n",
    "popular_tags = pd.DataFrame.from_dict(dict(sorted(tag_list_coll.items(), key=lambda x: x[1], reverse=True)), orient='index').reset_index()\n",
    "popular_tags.columns = ['tag', 'count']"
   ]
  },
  {
   "cell_type": "code",
   "execution_count": null,
   "metadata": {},
   "outputs": [],
   "source": [
    "sns.barplot(data=popular_tags.nlargest(30, 'count'), x='count', y='tag')"
   ]
  },
  {
   "cell_type": "code",
   "execution_count": null,
   "metadata": {},
   "outputs": [],
   "source": [
    "# Pandas >= 0.25\n",
    "df_tags = df.explode('tags_list')\n",
    "df_tags_agg = df_tags.groupby('tags_list').aggregate({\"patrons\": \"mean\",\n",
    "                                       \"dotations_per_month\": \"mean\",\n",
    "                                       \"total_dotations\": \"mean\",\n",
    "                                       \"mean_donation\": \"mean\"}).reset_index()\n"
   ]
  },
  {
   "cell_type": "code",
   "execution_count": null,
   "metadata": {},
   "outputs": [],
   "source": [
    "df_tags_agg.nlargest(10, 'patrons')[['tags_list', 'patrons']]"
   ]
  },
  {
   "cell_type": "code",
   "execution_count": null,
   "metadata": {},
   "outputs": [],
   "source": [
    "df_tags_agg.nlargest(10, 'dotations_per_month')[['tags_list', 'dotations_per_month']]"
   ]
  },
  {
   "cell_type": "code",
   "execution_count": null,
   "metadata": {},
   "outputs": [],
   "source": [
    "df_tags_agg.nlargest(10, 'total_dotations')[['tags_list', 'total_dotations']]"
   ]
  },
  {
   "cell_type": "code",
   "execution_count": null,
   "metadata": {},
   "outputs": [],
   "source": [
    "df_tags_agg.nlargest(10, 'mean_donation')[['tags_list', 'mean_donation']]"
   ]
  },
  {
   "cell_type": "code",
   "execution_count": null,
   "metadata": {},
   "outputs": [],
   "source": [
    "6.5/100 * np.sum(df.total_dotations)"
   ]
  },
  {
   "cell_type": "code",
   "execution_count": null,
   "metadata": {},
   "outputs": [],
   "source": [
    "partonite_zarobki = df[['registration_year', 'total_dotations']].groupby('registration_year').aggregate(\"sum\").reset_index()\n",
    "partonite_zarobki['prowizja'] = round(6.5/100 * partonite_zarobki['total_dotations'], 2)\n",
    "partonite_zarobki"
   ]
  },
  {
   "cell_type": "code",
   "execution_count": null,
   "metadata": {},
   "outputs": [],
   "source": [
    "sns.barplot(data=partonite_zarobki, x='registration_year', y='prowizja')"
   ]
  },
  {
   "cell_type": "code",
   "execution_count": null,
   "metadata": {},
   "outputs": [],
   "source": [
    "# łącznie\n",
    "round(np.sum(partonite_zarobki['prowizja']))"
   ]
  },
  {
   "cell_type": "code",
   "execution_count": null,
   "metadata": {},
   "outputs": [],
   "source": [
    "# miesięcznie\n",
    "round(np.sum(partonite_zarobki['prowizja'])/(4*12))"
   ]
  }
 ],
 "metadata": {
  "kernelspec": {
   "display_name": "Python 3",
   "language": "python",
   "name": "python3"
  },
  "language_info": {
   "codemirror_mode": {
    "name": "ipython",
    "version": 3
   },
   "file_extension": ".py",
   "mimetype": "text/x-python",
   "name": "python",
   "nbconvert_exporter": "python",
   "pygments_lexer": "ipython3",
   "version": "3.8.2-final"
  }
 },
 "nbformat": 4,
 "nbformat_minor": 4
}